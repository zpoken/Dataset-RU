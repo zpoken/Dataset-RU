{
 "cells": [
  {
   "cell_type": "code",
   "execution_count": 1,
   "id": "bff48e4d-7c42-422d-9aaa-e2e120f7b97f",
   "metadata": {},
   "outputs": [],
   "source": [
    "import glob\n",
    "import os\n",
    "import pandas as pd"
   ]
  },
  {
   "cell_type": "code",
   "execution_count": 15,
   "id": "1112d5d0-6fc1-476b-bea6-04a43584ccb7",
   "metadata": {},
   "outputs": [],
   "source": [
    "gen_path = \"/home/pasha/data/Dataset-RU/\" ## path to dirs where you have downloaded dataset"
   ]
  },
  {
   "cell_type": "markdown",
   "id": "efe62c34-4293-4406-9ac8-1af762257313",
   "metadata": {},
   "source": [
    "## Open transcriptions\n",
    "If you download dataset via bash script and didnt't change destination folder, you will get this folder structure\n",
    "<br>\n",
    "Dataset-RU/\n",
    "<br>\n",
    "├── Analyze_datasets.ipynb\n",
    "<br>\n",
    "├── LICENSE\n",
    "<br>\n",
    "├── README.MD\n",
    "<br>\n",
    "├── Radio1_50h\n",
    "<br>\n",
    "├── Radio2_25h\n",
    "<br>\n",
    "├── Radio3_25h\n",
    "<br>\n",
    "├── Radio5_25h\n",
    "<br>\n",
    "├── download.sh\n",
    "<br>\n",
    "└── ru_films_pb25"
   ]
  },
  {
   "cell_type": "code",
   "execution_count": 45,
   "id": "4bedfc9d-2d6c-49f3-94be-4818b1612f1a",
   "metadata": {},
   "outputs": [],
   "source": [
    "datatets_path = glob.glob(os.path.join(gen_path, \"**/transcription.csv\"), recursive=True)\n",
    "dataset = pd.concat([ pd.read_csv(path) for path in datatets_path])\n",
    "dataset[\"source\"] = dataset.filepath.apply(lambda x: x.split(os.path.sep)[0])"
   ]
  },
  {
   "cell_type": "markdown",
   "id": "d5c7c138-d12c-442e-8e55-8bd80df3c505",
   "metadata": {},
   "source": [
    "## Manipulate transcription.csv\n",
    "transcription.csv contains column `filepath` with relative path, e.g. _'Radio1_50h/data/part_540/167281367381607557260431197459680506123.opus'_\n",
    "<br>\n",
    "To create correct path, just join `gen_path` to  `filepath`\n"
   ]
  },
  {
   "cell_type": "code",
   "execution_count": 46,
   "id": "9baaeab7-ae32-4acd-9670-c97a7c0ec8f6",
   "metadata": {},
   "outputs": [],
   "source": [
    "dataset[\"filepath\"] = dataset.filepath.apply(lambda x: os.path.join(gen_path, x))\n",
    "assert len(dataset) == len(dataset[dataset.filepath.apply(lambda x: os.path.exists(x))]) ## check correctness of filepath"
   ]
  },
  {
   "cell_type": "markdown",
   "id": "b594bff6-df38-4e85-a604-86a816436a6f",
   "metadata": {},
   "source": [
    "## To check dataset stat which we provide in repo you can use cells below\n",
    "#### Duration of each dataset"
   ]
  },
  {
   "cell_type": "code",
   "execution_count": 48,
   "id": "53d1b67a-1d31-4152-bdd8-fe5a9eaffda6",
   "metadata": {},
   "outputs": [
    {
     "data": {
      "text/plain": [
       "source\n",
       "Radio1_50h       50.003833\n",
       "Radio2_25h       25.001333\n",
       "Radio3_25h       25.003511\n",
       "Radio5_25h       25.000167\n",
       "ru_films_pb25    25.139543\n",
       "Name: duration, dtype: float64"
      ]
     },
     "execution_count": 48,
     "metadata": {},
     "output_type": "execute_result"
    }
   ],
   "source": [
    "dataset.groupby(\"source\").duration.sum() / 3600 "
   ]
  },
  {
   "cell_type": "markdown",
   "id": "847de50c-711a-4017-8718-bcfd0e337bf1",
   "metadata": {},
   "source": [
    "#### Characters per second"
   ]
  },
  {
   "cell_type": "code",
   "execution_count": 51,
   "id": "ca8dafeb-9f8e-4a94-a66a-719add3d9bec",
   "metadata": {},
   "outputs": [
    {
     "data": {
      "text/plain": [
       "source\n",
       "Radio1_50h       12.855102\n",
       "Radio2_25h       13.229366\n",
       "Radio3_25h       13.633167\n",
       "Radio5_25h       16.709626\n",
       "ru_films_pb25     8.473994\n",
       "Name: char_per_sec, dtype: float64"
      ]
     },
     "execution_count": 51,
     "metadata": {},
     "output_type": "execute_result"
    }
   ],
   "source": [
    "dataset[\"char_per_sec\"] = dataset.apply(lambda x: len(x.text) / x.duration, axis=1) \n",
    "dataset.groupby(\"source\").char_per_sec.mean()"
   ]
  },
  {
   "cell_type": "markdown",
   "id": "3c39a131-d681-4cc6-a809-cb87aae2d7e9",
   "metadata": {},
   "source": [
    "#### Characters per sample"
   ]
  },
  {
   "cell_type": "code",
   "execution_count": 56,
   "id": "50bd49b1-2604-4633-af99-2a46b6c82ca3",
   "metadata": {},
   "outputs": [
    {
     "data": {
      "text/plain": [
       "source\n",
       "Radio1_50h        67.356382\n",
       "Radio2_25h        74.228941\n",
       "Radio3_25h       137.373486\n",
       "Radio5_25h       139.428551\n",
       "ru_films_pb25    104.228926\n",
       "dtype: float64"
      ]
     },
     "execution_count": 56,
     "metadata": {},
     "output_type": "execute_result"
    }
   ],
   "source": [
    "dataset.groupby(\"source\").char_per_sec.mean() * dataset.groupby(\"source\").duration.mean()"
   ]
  },
  {
   "cell_type": "code",
   "execution_count": null,
   "id": "4b89cc01-ebf7-4431-9f5f-f37a67301728",
   "metadata": {},
   "outputs": [],
   "source": []
  }
 ],
 "metadata": {
  "kernelspec": {
   "display_name": "Python 3",
   "language": "python",
   "name": "python3"
  },
  "language_info": {
   "codemirror_mode": {
    "name": "ipython",
    "version": 3
   },
   "file_extension": ".py",
   "mimetype": "text/x-python",
   "name": "python",
   "nbconvert_exporter": "python",
   "pygments_lexer": "ipython3",
   "version": "3.8.5"
  }
 },
 "nbformat": 4,
 "nbformat_minor": 5
}
